{
 "cells": [
  {
   "cell_type": "code",
   "execution_count": 1,
   "metadata": {
    "ExecuteTime": {
     "end_time": "2023-06-06T14:53:00.973598Z",
     "start_time": "2023-06-06T14:53:00.895365Z"
    }
   },
   "outputs": [],
   "source": [
    "import numpy as np\n",
    "from CoolProp.CoolProp import PropsSI\n",
    "from thermo.eos_mix import SRKMIX"
   ]
  },
  {
   "cell_type": "code",
   "execution_count": 6,
   "metadata": {
    "ExecuteTime": {
     "end_time": "2023-06-06T14:53:01.069874Z",
     "start_time": "2023-06-06T14:53:01.050092Z"
    },
    "collapsed": true
   },
   "outputs": [],
   "source": [
    "T = 283.15\n",
    "p = 50*1e5\n",
    "p_n = 101325\n",
    "T_n = 273.15\n",
    "# methane\n",
    "# critical temperature [K]\n",
    "T_crit_meth = 190.55\n",
    "# critical pressure [Pa]\n",
    "p_crit_meth = 45.95e5\n",
    "# acentric factor - dimensionless\n",
    "acent_fact_meth = 0.01142\n",
    "\n",
    "# h2\n",
    "# critical temperature [K]\n",
    "T_crit_h2 = 33.20\n",
    "# critical pressure [Pa]\n",
    "p_crit_h2 = 13e5\n",
    "# acentric factor - dimensionless\n",
    "acent_fact_h2 = -0.219\n",
    "\n",
    "\n",
    "T_crit = np.array([T_crit_meth, T_crit_h2])\n",
    "p_crit = np.array([p_crit_meth, p_crit_h2])\n",
    "acent_fact = np.array([acent_fact_meth, acent_fact_h2])"
   ]
  },
  {
   "cell_type": "code",
   "execution_count": 7,
   "metadata": {
    "ExecuteTime": {
     "end_time": "2023-06-06T14:53:01.303319Z",
     "start_time": "2023-06-06T14:53:01.294485Z"
    }
   },
   "outputs": [],
   "source": [
    "# Zum Testen'\n",
    "molar_fraction = np.array([0.11, 0.89])"
   ]
  },
  {
   "cell_type": "code",
   "execution_count": 10,
   "metadata": {
    "ExecuteTime": {
     "end_time": "2023-06-06T14:53:01.570114Z",
     "start_time": "2023-06-06T14:53:01.550971Z"
    }
   },
   "outputs": [
    {
     "ename": "AttributeError",
     "evalue": "'SRKMIX' object has no attribute 'Z_g'",
     "output_type": "error",
     "traceback": [
      "\u001b[1;31m---------------------------------------------------------------------------\u001b[0m",
      "\u001b[1;31mAttributeError\u001b[0m                            Traceback (most recent call last)",
      "Cell \u001b[1;32mIn[10], line 1\u001b[0m\n\u001b[1;32m----> 1\u001b[0m \u001b[43mSRKMIX\u001b[49m\u001b[43m(\u001b[49m\u001b[43mTcs\u001b[49m\u001b[38;5;241;43m=\u001b[39;49m\u001b[43mT_crit\u001b[49m\u001b[43m,\u001b[49m\u001b[43m \u001b[49m\u001b[43mPcs\u001b[49m\u001b[38;5;241;43m=\u001b[39;49m\u001b[43mp_crit\u001b[49m\u001b[43m,\u001b[49m\u001b[43m \u001b[49m\u001b[43momegas\u001b[49m\u001b[38;5;241;43m=\u001b[39;49m\u001b[43macent_fact\u001b[49m\u001b[43m,\u001b[49m\u001b[43m \u001b[49m\u001b[43mzs\u001b[49m\u001b[38;5;241;43m=\u001b[39;49m\u001b[43mmolar_fraction\u001b[49m\u001b[43m,\u001b[49m\u001b[43m \u001b[49m\u001b[43mT\u001b[49m\u001b[38;5;241;43m=\u001b[39;49m\u001b[43mT\u001b[49m\u001b[43m,\u001b[49m\u001b[43m \u001b[49m\u001b[43mP\u001b[49m\u001b[38;5;241;43m=\u001b[39;49m\u001b[43mp\u001b[49m\u001b[43m)\u001b[49m\u001b[38;5;241;43m.\u001b[39;49m\u001b[43mZ_g\u001b[49m\n",
      "\u001b[1;31mAttributeError\u001b[0m: 'SRKMIX' object has no attribute 'Z_g'"
     ]
    }
   ],
   "source": [
    "SRKMIX(Tcs=T_crit, Pcs=p_crit, omegas=acent_fact, zs=molar_fraction, T=T, P=p).Z_g"
   ]
  },
  {
   "cell_type": "code",
   "execution_count": 9,
   "metadata": {
    "ExecuteTime": {
     "end_time": "2023-06-06T14:53:03.103714Z",
     "start_time": "2023-06-06T14:53:03.088745Z"
    }
   },
   "outputs": [
    {
     "data": {
      "text/plain": [
       "1.0225486527222574"
      ]
     },
     "execution_count": 9,
     "metadata": {},
     "output_type": "execute_result"
    }
   ],
   "source": [
    "PropsSI(\"Z\", \"T\", T, \"P\", p, \"SRK::Methane[0.11]&Hydrogen[0.89]\")"
   ]
  }
 ],
 "metadata": {
  "kernelspec": {
   "display_name": "Python 3 (ipykernel)",
   "language": "python",
   "name": "python3"
  },
  "language_info": {
   "codemirror_mode": {
    "name": "ipython",
    "version": 3
   },
   "file_extension": ".py",
   "mimetype": "text/x-python",
   "name": "python",
   "nbconvert_exporter": "python",
   "pygments_lexer": "ipython3",
   "version": "3.9.13"
  }
 },
 "nbformat": 4,
 "nbformat_minor": 1
}
