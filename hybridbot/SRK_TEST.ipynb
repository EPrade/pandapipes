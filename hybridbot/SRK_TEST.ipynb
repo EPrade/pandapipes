{
 "cells": [
  {
   "cell_type": "code",
   "execution_count": 1,
   "metadata": {
    "ExecuteTime": {
     "end_time": "2023-06-06T14:53:00.973598Z",
     "start_time": "2023-06-06T14:53:00.895365Z"
    }
   },
   "outputs": [],
   "source": [
    "import numpy as np\n",
    "from CoolProp.CoolProp import PropsSI\n",
    "from thermo.eos_mix import SRKMIX\n",
    "\n",
    "# to display ful output of a code cell\n",
    "from IPython.core.interactiveshell import InteractiveShell\n",
    "InteractiveShell.ast_node_interactivity = \"all\"\n"
   ]
  },
  {
   "cell_type": "code",
   "execution_count": 2,
   "metadata": {
    "ExecuteTime": {
     "end_time": "2023-06-06T14:53:01.069874Z",
     "start_time": "2023-06-06T14:53:01.050092Z"
    },
    "collapsed": true
   },
   "outputs": [],
   "source": [
    "T = 283.15\n",
    "\n",
    "T_0 = 286.57500\n",
    "T_1 =280.00000\n",
    "T_2 =280.00000\n",
    "\n",
    "\n",
    "# p_0 = 1*1e5\n",
    "# p_1 = 25*1e5\n",
    "# p_2 = 50*1e5\n",
    "\n",
    "p_0 = 2.08835*1e5\n",
    "p_1 = 2.06325*1e5\n",
    "p_2 = 2.06325*1e5\n",
    "\n",
    "p_n = 101325\n",
    "T_n = 273.15\n",
    "# methane\n",
    "# critical temperature [K]\n",
    "T_crit_meth = 190.55\n",
    "# critical pressure [Pa]\n",
    "p_crit_meth = 45.95e5\n",
    "# acentric factor - dimensionless\n",
    "acent_fact_meth = 0.01142\n",
    "\n",
    "# h2\n",
    "# critical temperature [K]\n",
    "T_crit_h2 = 33.20\n",
    "# critical pressure [Pa]\n",
    "p_crit_h2 = 13e5\n",
    "# acentric factor - dimensionless\n",
    "acent_fact_h2 = -0.219\n",
    "\n",
    "\n",
    "T_crit = np.array([T_crit_meth, T_crit_h2])\n",
    "p_crit = np.array([p_crit_meth, p_crit_h2])\n",
    "acent_fact = np.array([acent_fact_meth, acent_fact_h2])"
   ]
  },
  {
   "cell_type": "code",
   "execution_count": 3,
   "metadata": {
    "ExecuteTime": {
     "end_time": "2023-06-06T14:53:01.303319Z",
     "start_time": "2023-06-06T14:53:01.294485Z"
    }
   },
   "outputs": [],
   "source": [
    "# Zum Testen'\n",
    "molar_fraction_0 = np.array([0.11, 0.89])\n",
    "molar_fraction_1 = np.array([0.6, 0.4])\n",
    "molar_fraction_2 = np.array([.9, .1])\n"
   ]
  },
  {
   "cell_type": "code",
   "execution_count": 4,
   "metadata": {
    "ExecuteTime": {
     "end_time": "2023-06-06T14:53:01.570114Z",
     "start_time": "2023-06-06T14:53:01.550971Z"
    }
   },
   "outputs": [
    {
     "data": {
      "text/plain": "1.0008551036561713"
     },
     "execution_count": 4,
     "metadata": {},
     "output_type": "execute_result"
    }
   ],
   "source": [
    "SRKMIX(Tcs=T_crit, Pcs=p_crit, omegas=acent_fact, zs=molar_fraction_0, T=T, P=p_0).Z_g"
   ]
  },
  {
   "cell_type": "code",
   "execution_count": 5,
   "metadata": {
    "ExecuteTime": {
     "end_time": "2023-06-06T14:53:03.103714Z",
     "start_time": "2023-06-06T14:53:03.088745Z"
    }
   },
   "outputs": [
    {
     "data": {
      "text/plain": "1.0008634607864504"
     },
     "execution_count": 5,
     "metadata": {},
     "output_type": "execute_result"
    },
    {
     "data": {
      "text/plain": "0.9986587780945078"
     },
     "execution_count": 5,
     "metadata": {},
     "output_type": "execute_result"
    },
    {
     "data": {
      "text/plain": "0.9964377011889309"
     },
     "execution_count": 5,
     "metadata": {},
     "output_type": "execute_result"
    },
    {
     "data": {
      "text/plain": "1.0004048176766633"
     },
     "execution_count": 5,
     "metadata": {},
     "output_type": "execute_result"
    },
    {
     "data": {
      "text/plain": "0.9992470435555949"
     },
     "execution_count": 5,
     "metadata": {},
     "output_type": "execute_result"
    },
    {
     "data": {
      "text/plain": "0.9980746125262485"
     },
     "execution_count": 5,
     "metadata": {},
     "output_type": "execute_result"
    }
   ],
   "source": [
    "PropsSI(\"Z\", \"T\", T_0, \"P\", p_0, \"SRK::Methane[0.11]&Hydrogen[0.89]\")\n",
    "PropsSI(\"Z\", \"T\", T_1, \"P\", p_1, \"SRK::Methane[0.6]&Hydrogen[0.4]\") # [.6, .4])\n",
    "PropsSI(\"Z\", \"T\", T_2, \"P\", p_2, \"SRK::Methane[0.9]&Hydrogen[0.1]\") # [.9, .1])\n",
    "PropsSI(\"Z\", \"T\", T_n, \"P\", p_n, \"SRK::Methane[0.11]&Hydrogen[0.89]\") # [.9, .1])\n",
    "PropsSI(\"Z\", \"T\", T_n, \"P\", p_n, \"SRK::Methane[0.6]&Hydrogen[0.4]\") # [.9, .1])\n",
    "PropsSI(\"Z\", \"T\", T_n, \"P\", p_n, \"SRK::Methane[0.9]&Hydrogen[0.1]\") # [.9, .1])\n"
   ]
  },
  {
   "cell_type": "code",
   "execution_count": null,
   "outputs": [],
   "source": [],
   "metadata": {
    "collapsed": false
   }
  }
 ],
 "metadata": {
  "kernelspec": {
   "display_name": "Python 3 (ipykernel)",
   "language": "python",
   "name": "python3"
  },
  "language_info": {
   "codemirror_mode": {
    "name": "ipython",
    "version": 3
   },
   "file_extension": ".py",
   "mimetype": "text/x-python",
   "name": "python",
   "nbconvert_exporter": "python",
   "pygments_lexer": "ipython3",
   "version": "3.9.13"
  }
 },
 "nbformat": 4,
 "nbformat_minor": 1
}
