{
 "cells": [
  {
   "cell_type": "code",
   "execution_count": 1,
   "outputs": [],
   "source": [
    "import numpy as np\n",
    "from CoolProp.CoolProp import PropsSI\n",
    "from thermo.eos_mix import SRKMIX"
   ],
   "metadata": {
    "collapsed": false,
    "ExecuteTime": {
     "start_time": "2023-06-06T14:53:00.895365Z",
     "end_time": "2023-06-06T14:53:00.973598Z"
    }
   }
  },
  {
   "cell_type": "code",
   "execution_count": 6,
   "metadata": {
    "collapsed": true,
    "ExecuteTime": {
     "start_time": "2023-06-06T14:53:01.050092Z",
     "end_time": "2023-06-06T14:53:01.069874Z"
    }
   },
   "outputs": [],
   "source": [
    "T = 283.15\n",
    "p = 50*1e5\n",
    "p_n = 101325\n",
    "T_n = 273.15\n",
    "# methane\n",
    "# critical temperature [K]\n",
    "T_crit_meth = 190.55\n",
    "# critical pressure [Pa]\n",
    "p_crit_meth = 45.95e5\n",
    "# acentric factor - dimensionless\n",
    "acent_fact_meth = 0.01142\n",
    "\n",
    "# h2\n",
    "# critical temperature [K]\n",
    "T_crit_h2 = 33.20\n",
    "# critical pressure [Pa]\n",
    "p_crit_h2 = 13e5\n",
    "# acentric factor - dimensionless\n",
    "acent_fact_h2 = -0.219\n",
    "\n",
    "\n",
    "T_crit = np.array([T_crit_meth, T_crit_h2])\n",
    "p_crit = np.array([p_crit_meth, p_crit_h2])\n",
    "acent_fact = np.array([acent_fact_meth, acent_fact_h2])"
   ]
  },
  {
   "cell_type": "code",
   "execution_count": 7,
   "outputs": [],
   "source": [
    "# Zum Testen'\n",
    "molar_fraction = np.array([0.11, 0.89])"
   ],
   "metadata": {
    "collapsed": false,
    "ExecuteTime": {
     "start_time": "2023-06-06T14:53:01.294485Z",
     "end_time": "2023-06-06T14:53:01.303319Z"
    }
   }
  },
  {
   "cell_type": "code",
   "execution_count": 10,
   "outputs": [
    {
     "ename": "AttributeError",
     "evalue": "'SRKMIX' object has no attribute 'Z_g'",
     "output_type": "error",
     "traceback": [
      "\u001B[1;31m---------------------------------------------------------------------------\u001B[0m",
      "\u001B[1;31mAttributeError\u001B[0m                            Traceback (most recent call last)",
      "Cell \u001B[1;32mIn[10], line 1\u001B[0m\n\u001B[1;32m----> 1\u001B[0m \u001B[43mSRKMIX\u001B[49m\u001B[43m(\u001B[49m\u001B[43mTcs\u001B[49m\u001B[38;5;241;43m=\u001B[39;49m\u001B[43mT_crit\u001B[49m\u001B[43m,\u001B[49m\u001B[43m \u001B[49m\u001B[43mPcs\u001B[49m\u001B[38;5;241;43m=\u001B[39;49m\u001B[43mp_crit\u001B[49m\u001B[43m,\u001B[49m\u001B[43m \u001B[49m\u001B[43momegas\u001B[49m\u001B[38;5;241;43m=\u001B[39;49m\u001B[43macent_fact\u001B[49m\u001B[43m,\u001B[49m\u001B[43m \u001B[49m\u001B[43mzs\u001B[49m\u001B[38;5;241;43m=\u001B[39;49m\u001B[43mmolar_fraction\u001B[49m\u001B[43m,\u001B[49m\u001B[43m \u001B[49m\u001B[43mT\u001B[49m\u001B[38;5;241;43m=\u001B[39;49m\u001B[43mT\u001B[49m\u001B[43m,\u001B[49m\u001B[43m \u001B[49m\u001B[43mP\u001B[49m\u001B[38;5;241;43m=\u001B[39;49m\u001B[43mp\u001B[49m\u001B[43m)\u001B[49m\u001B[38;5;241;43m.\u001B[39;49m\u001B[43mZ_g\u001B[49m\n",
      "\u001B[1;31mAttributeError\u001B[0m: 'SRKMIX' object has no attribute 'Z_g'"
     ]
    }
   ],
   "source": [
    "SRKMIX(Tcs=T_crit, Pcs=p_crit, omegas=acent_fact, zs=molar_fraction, T=T, P=p).Z_g"
   ],
   "metadata": {
    "collapsed": false,
    "ExecuteTime": {
     "start_time": "2023-06-06T14:53:01.550971Z",
     "end_time": "2023-06-06T14:53:01.570114Z"
    }
   }
  },
  {
   "cell_type": "code",
   "execution_count": 9,
   "outputs": [
    {
     "data": {
      "text/plain": "1.0225486527222574"
     },
     "execution_count": 9,
     "metadata": {},
     "output_type": "execute_result"
    }
   ],
   "source": [
    "PropsSI(\"Z\", \"T\", T, \"P\", p, \"SRK::Methane[0.11]&Hydrogen[0.89]\")"
   ],
   "metadata": {
    "collapsed": false,
    "ExecuteTime": {
     "start_time": "2023-06-06T14:53:03.088745Z",
     "end_time": "2023-06-06T14:53:03.103714Z"
    }
   }
  }
 ],
 "metadata": {
  "kernelspec": {
   "display_name": "Python 3",
   "language": "python",
   "name": "python3"
  },
  "language_info": {
   "codemirror_mode": {
    "name": "ipython",
    "version": 2
   },
   "file_extension": ".py",
   "mimetype": "text/x-python",
   "name": "python",
   "nbconvert_exporter": "python",
   "pygments_lexer": "ipython2",
   "version": "2.7.6"
  }
 },
 "nbformat": 4,
 "nbformat_minor": 0
}
