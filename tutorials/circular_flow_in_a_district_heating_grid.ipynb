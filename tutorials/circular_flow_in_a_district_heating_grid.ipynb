{
 "cells": [
  {
   "cell_type": "markdown",
   "metadata": {},
   "source": [
    "# Circular flow in a district heating grid\n",
    "\n",
    "This example shows how to set up and solve the following network:\n",
    "\n",
    "<img src=\"pics/heat.png\">\n",
    "\n",
    "In this example, we will not only calculate the pressure and velocity distribution in the network, but also determine the temperature levels. The pump feeds fluid of a given temperature into the grid. Due to losses, the temperature will fall. The heat exchanger removes more heat from the network. On its way back to the pump, the temperature will fall further. \n",
    "\n",
    "The network is based on the topology of a district heating grid, where the fluid returns to the pump after the consumers (heat exchangers) have been supplied.\n",
    "\n",
    "To set up this network, at first, the pandapipes package has to be imported. Additionally, a net container is created and, at the same time, water as a fluid is chosen."
   ]
  },
  {
   "cell_type": "code",
   "execution_count": 1,
   "metadata": {},
   "outputs": [],
   "source": [
    "import pandapipes as pp\n",
    "\n",
    "# create empty net\n",
    "net = pp.create_empty_network(fluid =\"water\")"
   ]
  },
  {
   "cell_type": "markdown",
   "metadata": {},
   "source": [
    "Note that the flow of the example network flows in a closed loop. We will need four junctions.\n",
    "The parameters `pn_bar` and `tfluid_k` that have to be set in the `create_junction`-function\n",
    "are\n",
    "only used as starting points for the network simulation. The fix pressure and fluid temperature is\n",
    "being determined by the circular pump component which will be created afterwards."
   ]
  },
  {
   "cell_type": "code",
   "execution_count": 2,
   "metadata": {},
   "outputs": [],
   "source": [
    "j0 = pp.create_junction(net, pn_bar=5, tfluid_k=293.15, name=\"junction 0\")\n",
    "j1 = pp.create_junction(net, pn_bar=5, tfluid_k=293.15, name=\"junction 1\")\n",
    "j2 = pp.create_junction(net, pn_bar=5, tfluid_k=293.15, name=\"junction 2\")\n",
    "j3 = pp.create_junction(net, pn_bar=5, tfluid_k=293.15, name=\"junction 3\")"
   ]
  },
  {
   "cell_type": "markdown",
   "metadata": {},
   "source": [
    "Now, the pump will be created. The type of pump we choose needs a mass flow, a pressure level and a\n",
    "temperature as input. Note that the circular pump is a component, which internally consists of an\n",
    "external grid, connected to the junction specified via the from_junction-parameter and a sink,\n",
    "connected to the junction specified via the to_junction-parameter.\n",
    "\n",
    "However, the internal structure is not visible to the user, so that the circular pump component\n",
    "supplies a fluid flow with the specified properties."
   ]
  },
  {
   "cell_type": "code",
   "execution_count": 3,
   "metadata": {},
   "outputs": [
    {
     "data": {
      "text/plain": [
       "0"
      ]
     },
     "execution_count": 3,
     "metadata": {},
     "output_type": "execute_result"
    }
   ],
   "source": [
    "pp.create_circ_pump_const_mass_flow(net, from_junction=j0, to_junction=j3, p_bar=5,\n",
    "                                    mdot_kg_per_s=20, t_k=273.15+35)"
   ]
  },
  {
   "cell_type": "markdown",
   "metadata": {},
   "source": [
    "Next, the heat exchanger component is created.\n",
    "The most important parameter for this component is the heat flux `qext_w`. A positive value of\n",
    "`qext_w` means that heat is withdrawn from the network and supplied to a consumer.\n",
    "A negative value of `qext_w` corresponds to a heat source, i. e. thermal energy is being transfered\n",
    "from the heat exchanger into the network."
   ]
  },
  {
   "cell_type": "code",
   "execution_count": 4,
   "metadata": {},
   "outputs": [
    {
     "data": {
      "text/plain": [
       "0"
      ]
     },
     "execution_count": 4,
     "metadata": {},
     "output_type": "execute_result"
    }
   ],
   "source": [
    "pp.create_heat_exchanger(net, from_junction=j1, to_junction=j2, diameter_m=200e-3, qext_w = 100000)"
   ]
  },
  {
   "cell_type": "markdown",
   "metadata": {},
   "source": [
    "The following commands defines the pipes between the components. Each pipe will consist of five\n",
    "internal sections in order to improve the spatial resolution for the temperature calculation.\n",
    "The parameter `text_k` specifies the ambient temperature on the outside of the pipe. It is used to\n",
    "calculate energy losses."
   ]
  },
  {
   "cell_type": "code",
   "execution_count": 5,
   "metadata": {},
   "outputs": [
    {
     "data": {
      "text/plain": [
       "1"
      ]
     },
     "execution_count": 5,
     "metadata": {},
     "output_type": "execute_result"
    }
   ],
   "source": [
    "pp.create_pipe_from_parameters(net, from_junction=j0, to_junction=j1, length_km=1,\n",
    "                               diameter_m=200e-3, k_mm=.1, alpha_w_per_m2k=10, sections = 5, text_k=283)\n",
    "pp.create_pipe_from_parameters(net, from_junction=j2, to_junction=j3, length_km=1,\n",
    "                               diameter_m=200e-3, k_mm=.1, alpha_w_per_m2k=10, sections = 5, text_k=283)"
   ]
  },
  {
   "cell_type": "markdown",
   "metadata": {},
   "source": [
    "\n",
    "We now run a pipe flow.\n"
   ]
  },
  {
   "cell_type": "code",
   "execution_count": 6,
   "metadata": {},
   "outputs": [
    {
     "name": "stderr",
     "output_type": "stream",
     "text": [
      "hp.pandapipes.pf.pipeflow_setup - INFO: numba is not installed. Install numba first before you set the 'use_numba' flag to True. The pipeflow will be performed without numba speedup.\n"
     ]
    }
   ],
   "source": [
    "pp.pipeflow(net, mode='all')"
   ]
  },
  {
   "cell_type": "markdown",
   "metadata": {},
   "source": [
    "By default, only the pressure and velocity distribution is calculated by the pipeflow function. If\n",
    "the `mode`-parameter is set to \"all\", the heat transfer calculation is started automatically\n",
    "after the hydraulics computation. Computed mass flows are used as an input for the temperature\n",
    "calculation. After the computation, you can check the results for junctions and pipes:"
   ]
  },
  {
   "cell_type": "code",
   "execution_count": 7,
   "metadata": {},
   "outputs": [
    {
     "data": {
      "text/html": [
       "<div>\n",
       "<style scoped>\n",
       "    .dataframe tbody tr th:only-of-type {\n",
       "        vertical-align: middle;\n",
       "    }\n",
       "\n",
       "    .dataframe tbody tr th {\n",
       "        vertical-align: top;\n",
       "    }\n",
       "\n",
       "    .dataframe thead th {\n",
       "        text-align: right;\n",
       "    }\n",
       "</style>\n",
       "<table border=\"1\" class=\"dataframe\">\n",
       "  <thead>\n",
       "    <tr style=\"text-align: right;\">\n",
       "      <th></th>\n",
       "      <th>p_bar</th>\n",
       "      <th>t_k</th>\n",
       "    </tr>\n",
       "  </thead>\n",
       "  <tbody>\n",
       "    <tr>\n",
       "      <th>0</th>\n",
       "      <td>5.000000</td>\n",
       "      <td>308.150000</td>\n",
       "    </tr>\n",
       "    <tr>\n",
       "      <th>1</th>\n",
       "      <td>4.825502</td>\n",
       "      <td>306.330845</td>\n",
       "    </tr>\n",
       "    <tr>\n",
       "      <th>2</th>\n",
       "      <td>4.825502</td>\n",
       "      <td>305.135906</td>\n",
       "    </tr>\n",
       "    <tr>\n",
       "      <th>3</th>\n",
       "      <td>4.651003</td>\n",
       "      <td>303.534767</td>\n",
       "    </tr>\n",
       "  </tbody>\n",
       "</table>\n",
       "</div>"
      ],
      "text/plain": [
       "      p_bar         t_k\n",
       "0  5.000000  308.150000\n",
       "1  4.825502  306.330845\n",
       "2  4.825502  305.135906\n",
       "3  4.651003  303.534767"
      ]
     },
     "execution_count": 7,
     "metadata": {},
     "output_type": "execute_result"
    }
   ],
   "source": [
    "net.res_junction"
   ]
  },
  {
   "cell_type": "markdown",
   "metadata": {},
   "source": [
    "Note that a constant heat flow is extracted via the heat exchanger between nodes 1 and 2. Heat\n",
    "losses due to the ambient temperature level are not taken into account. These are only included in\n",
    "the pipe components. This also means that - if the extracted heat flow is large enough - the\n",
    "temperature level behind the heat exchanger might be lower than the ambient temperature level. A\n",
    "way to avoid this behaviour would be to create a controller which defines a function for the\n",
    "extracted heat in dependence of the ambient temperature."
   ]
  },
  {
   "cell_type": "code",
   "execution_count": 8,
   "metadata": {},
   "outputs": [
    {
     "data": {
      "text/html": [
       "<div>\n",
       "<style scoped>\n",
       "    .dataframe tbody tr th:only-of-type {\n",
       "        vertical-align: middle;\n",
       "    }\n",
       "\n",
       "    .dataframe tbody tr th {\n",
       "        vertical-align: top;\n",
       "    }\n",
       "\n",
       "    .dataframe thead th {\n",
       "        text-align: right;\n",
       "    }\n",
       "</style>\n",
       "<table border=\"1\" class=\"dataframe\">\n",
       "  <thead>\n",
       "    <tr style=\"text-align: right;\">\n",
       "      <th></th>\n",
       "      <th>v_mean_m_per_s</th>\n",
       "      <th>p_from_bar</th>\n",
       "      <th>p_to_bar</th>\n",
       "      <th>t_from_k</th>\n",
       "      <th>t_to_k</th>\n",
       "      <th>mdot_from_kg_per_s</th>\n",
       "      <th>mdot_to_kg_per_s</th>\n",
       "      <th>vdot_norm_m3_per_s</th>\n",
       "      <th>reynolds</th>\n",
       "      <th>lambda</th>\n",
       "    </tr>\n",
       "  </thead>\n",
       "  <tbody>\n",
       "    <tr>\n",
       "      <th>0</th>\n",
       "      <td>0.637784</td>\n",
       "      <td>5.000000</td>\n",
       "      <td>4.825502</td>\n",
       "      <td>308.150000</td>\n",
       "      <td>306.330845</td>\n",
       "      <td>20.0</td>\n",
       "      <td>-20.0</td>\n",
       "      <td>0.020115</td>\n",
       "      <td>127497.350871</td>\n",
       "      <td>0.017191</td>\n",
       "    </tr>\n",
       "    <tr>\n",
       "      <th>1</th>\n",
       "      <td>0.637784</td>\n",
       "      <td>4.825502</td>\n",
       "      <td>4.651003</td>\n",
       "      <td>305.135906</td>\n",
       "      <td>303.534767</td>\n",
       "      <td>20.0</td>\n",
       "      <td>-20.0</td>\n",
       "      <td>0.020096</td>\n",
       "      <td>127497.350871</td>\n",
       "      <td>0.017191</td>\n",
       "    </tr>\n",
       "  </tbody>\n",
       "</table>\n",
       "</div>"
      ],
      "text/plain": [
       "   v_mean_m_per_s  p_from_bar  p_to_bar    t_from_k      t_to_k  \\\n",
       "0        0.637784    5.000000  4.825502  308.150000  306.330845   \n",
       "1        0.637784    4.825502  4.651003  305.135906  303.534767   \n",
       "\n",
       "   mdot_from_kg_per_s  mdot_to_kg_per_s  vdot_norm_m3_per_s       reynolds  \\\n",
       "0                20.0             -20.0            0.020115  127497.350871   \n",
       "1                20.0             -20.0            0.020096  127497.350871   \n",
       "\n",
       "     lambda  \n",
       "0  0.017191  \n",
       "1  0.017191  "
      ]
     },
     "execution_count": 8,
     "metadata": {},
     "output_type": "execute_result"
    }
   ],
   "source": [
    "net.res_pipe"
   ]
  },
  {
   "cell_type": "markdown",
   "metadata": {},
   "source": [
    "The command above shows the results for the pipe components. The temperatures of the adjacent\n",
    "junctions are displayed. Due to heat losses, the temperatures at the to-nodes is lower than the\n",
    "temperatures at the from-nodes. Note also that the junctions are not equal to the internal nodes,\n",
    "introduced by the pipe sections we defined. To display the temperatures at the internal nodes, we\n",
    "can retrieve the internal node values with the following commands:"
   ]
  },
  {
   "cell_type": "code",
   "execution_count": 9,
   "metadata": {},
   "outputs": [],
   "source": [
    "from pandapipes.component_models import Pipe\n",
    "pipe_results = Pipe.get_internal_results(net, [0])"
   ]
  },
  {
   "cell_type": "markdown",
   "metadata": {},
   "source": [
    "The parameters of the get_internal_results function correspond to the net and the pipes we want to\n",
    "evaluate. In this case, only the results of pipe zero are retrieved. The returned value stored in\n",
    "pipe_results is a dictionary, containing fields for the pressure, the velocity and the temperature.\n",
    "The dictionary can either be used for own evaluations now or it can be used to plot the results over\n",
    "the pipe length:\n"
   ]
  },
  {
   "cell_type": "code",
   "execution_count": 10,
   "metadata": {},
   "outputs": [
    {
     "data": {
      "image/png": "[encoded data removed]",
      "text/plain": [
       "<Figure size 640x480 with 3 Axes>"
      ]
     },
     "metadata": {},
     "output_type": "display_data"
    }
   ],
   "source": [
    "Pipe.plot_pipe(net, 0, pipe_results)"
   ]
  },
  {
   "cell_type": "markdown",
   "metadata": {},
   "source": [
    "We can see that the pressure level falls due to friction. As the fluid is incompressible, the\n",
    "velocity remains constant over the pipe length. Because the temperature level at the pipe entry is\n",
    "higher than the ambient temperature, the temperature level decreases."
   ]
  },
  {
   "cell_type": "code",
   "execution_count": null,
   "metadata": {},
   "outputs": [],
   "source": []
  },
  {
   "cell_type": "code",
   "execution_count": null,
   "metadata": {},
   "outputs": [],
   "source": []
  }
 ],
 "metadata": {
  "kernelspec": {
   "display_name": "Python 3 (ipykernel)",
   "language": "python",
   "name": "python3"
  },
  "language_info": {
   "codemirror_mode": {
    "name": "ipython",
    "version": 3
   },
   "file_extension": ".py",
   "mimetype": "text/x-python",
   "name": "python",
   "nbconvert_exporter": "python",
   "pygments_lexer": "ipython3",
   "version": "3.9.13"
  }
 },
 "nbformat": 4,
 "nbformat_minor": 2
}
